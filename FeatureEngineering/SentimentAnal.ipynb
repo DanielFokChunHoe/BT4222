{
 "cells": [
  {
   "cell_type": "code",
   "execution_count": 149,
   "metadata": {},
   "outputs": [],
   "source": [
    "import sys\n",
    "import pandas as pd\n",
    "import datetime\n",
    "import matplotlib.pyplot as plt\n",
    "from sklearn.preprocessing import StandardScaler"
   ]
  },
  {
   "cell_type": "code",
   "execution_count": null,
   "metadata": {},
   "outputs": [],
   "source": [
    "#!{sys.executable} -m pip install regex"
   ]
  },
  {
   "cell_type": "code",
   "execution_count": 53,
   "metadata": {},
   "outputs": [],
   "source": [
    "#fj = pd.read_excel(\"financialjuice.xlsx\")\n",
    "nyt = pd.read_excel(\"nytimes.xlsx\")\n",
    "mkw = pd.read_excel(\"marketwatch.xlsx\")\n",
    "us10y = pd.read_csv(\"US10Y.csv\")"
   ]
  },
  {
   "cell_type": "markdown",
   "metadata": {},
   "source": [
    "Cleanup"
   ]
  },
  {
   "cell_type": "code",
   "execution_count": 54,
   "metadata": {},
   "outputs": [
    {
     "name": "stdout",
     "output_type": "stream",
     "text": [
      "8341\n"
     ]
    }
   ],
   "source": [
    "for i,row in enumerate(us10y.values):\n",
    "    if row[1]!=row[4]:\n",
    "        print(i)\n",
    "        break"
   ]
  },
  {
   "cell_type": "code",
   "execution_count": 100,
   "metadata": {},
   "outputs": [
    {
     "data": {
      "text/html": [
       "<div>\n",
       "<style scoped>\n",
       "    .dataframe tbody tr th:only-of-type {\n",
       "        vertical-align: middle;\n",
       "    }\n",
       "\n",
       "    .dataframe tbody tr th {\n",
       "        vertical-align: top;\n",
       "    }\n",
       "\n",
       "    .dataframe thead th {\n",
       "        text-align: right;\n",
       "    }\n",
       "</style>\n",
       "<table border=\"1\" class=\"dataframe\">\n",
       "  <thead>\n",
       "    <tr style=\"text-align: right;\">\n",
       "      <th></th>\n",
       "      <th>Date</th>\n",
       "      <th>open</th>\n",
       "      <th>high</th>\n",
       "      <th>low</th>\n",
       "      <th>close</th>\n",
       "      <th>adjusted_close</th>\n",
       "      <th>volume</th>\n",
       "      <th>opcl</th>\n",
       "    </tr>\n",
       "  </thead>\n",
       "  <tbody>\n",
       "    <tr>\n",
       "      <th>0</th>\n",
       "      <td>1980-01-02</td>\n",
       "      <td>10.482</td>\n",
       "      <td>10.482</td>\n",
       "      <td>10.482</td>\n",
       "      <td>10.482</td>\n",
       "      <td>10.482</td>\n",
       "      <td>0</td>\n",
       "      <td>0</td>\n",
       "    </tr>\n",
       "    <tr>\n",
       "      <th>1</th>\n",
       "      <td>1980-01-03</td>\n",
       "      <td>10.584</td>\n",
       "      <td>10.584</td>\n",
       "      <td>10.584</td>\n",
       "      <td>10.584</td>\n",
       "      <td>10.584</td>\n",
       "      <td>0</td>\n",
       "      <td>0</td>\n",
       "    </tr>\n",
       "    <tr>\n",
       "      <th>2</th>\n",
       "      <td>1980-01-04</td>\n",
       "      <td>10.636</td>\n",
       "      <td>10.636</td>\n",
       "      <td>10.636</td>\n",
       "      <td>10.636</td>\n",
       "      <td>10.636</td>\n",
       "      <td>0</td>\n",
       "      <td>0</td>\n",
       "    </tr>\n",
       "    <tr>\n",
       "      <th>3</th>\n",
       "      <td>1980-01-07</td>\n",
       "      <td>10.610</td>\n",
       "      <td>10.610</td>\n",
       "      <td>10.610</td>\n",
       "      <td>10.610</td>\n",
       "      <td>10.610</td>\n",
       "      <td>0</td>\n",
       "      <td>0</td>\n",
       "    </tr>\n",
       "    <tr>\n",
       "      <th>4</th>\n",
       "      <td>1980-01-08</td>\n",
       "      <td>10.553</td>\n",
       "      <td>10.553</td>\n",
       "      <td>10.553</td>\n",
       "      <td>10.553</td>\n",
       "      <td>10.553</td>\n",
       "      <td>0</td>\n",
       "      <td>0</td>\n",
       "    </tr>\n",
       "  </tbody>\n",
       "</table>\n",
       "</div>"
      ],
      "text/plain": [
       "         Date    open    high     low   close  adjusted_close  volume  opcl\n",
       "0  1980-01-02  10.482  10.482  10.482  10.482          10.482       0     0\n",
       "1  1980-01-03  10.584  10.584  10.584  10.584          10.584       0     0\n",
       "2  1980-01-04  10.636  10.636  10.636  10.636          10.636       0     0\n",
       "3  1980-01-07  10.610  10.610  10.610  10.610          10.610       0     0\n",
       "4  1980-01-08  10.553  10.553  10.553  10.553          10.553       0     0"
      ]
     },
     "execution_count": 100,
     "metadata": {},
     "output_type": "execute_result"
    }
   ],
   "source": [
    "us10y['opcl'] = us10y['close'] - us10y['open']\n",
    "us10y['opcl'] = [1 if x >0.0 else x for x in us10y['opcl']]\n",
    "us10y['opcl'] =[-1 if x <0.0 else x for x in us10y['opcl']]\n",
    "us10y['opcl'] = us10y['opcl'].astype(int)\n",
    "us10y.head()"
   ]
  },
  {
   "cell_type": "code",
   "execution_count": 132,
   "metadata": {},
   "outputs": [
    {
     "ename": "TypeError",
     "evalue": "strptime() argument 1 must be str, not datetime.date",
     "output_type": "error",
     "traceback": [
      "\u001b[1;31m---------------------------------------------------------------------------\u001b[0m",
      "\u001b[1;31mTypeError\u001b[0m                                 Traceback (most recent call last)",
      "\u001b[1;32m<ipython-input-132-a0685e1cfcb5>\u001b[0m in \u001b[0;36m<module>\u001b[1;34m\u001b[0m\n\u001b[0;32m      1\u001b[0m \u001b[0mus10y\u001b[0m\u001b[1;33m[\u001b[0m\u001b[1;34m'cltocl'\u001b[0m\u001b[1;33m]\u001b[0m \u001b[1;33m=\u001b[0m \u001b[0mus10y\u001b[0m\u001b[1;33m[\u001b[0m\u001b[1;34m'adjusted_close'\u001b[0m\u001b[1;33m]\u001b[0m\u001b[1;33m.\u001b[0m\u001b[0mdiff\u001b[0m\u001b[1;33m(\u001b[0m\u001b[1;33m)\u001b[0m\u001b[1;33m\u001b[0m\u001b[1;33m\u001b[0m\u001b[0m\n\u001b[1;32m----> 2\u001b[1;33m \u001b[0mus10y\u001b[0m\u001b[1;33m[\u001b[0m\u001b[1;34m'Date'\u001b[0m\u001b[1;33m]\u001b[0m \u001b[1;33m=\u001b[0m \u001b[0mus10y\u001b[0m\u001b[1;33m[\u001b[0m\u001b[1;34m'Date'\u001b[0m\u001b[1;33m]\u001b[0m\u001b[1;33m.\u001b[0m\u001b[0mapply\u001b[0m\u001b[1;33m(\u001b[0m\u001b[1;32mlambda\u001b[0m \u001b[0mx\u001b[0m\u001b[1;33m:\u001b[0m \u001b[0mdatetime\u001b[0m\u001b[1;33m.\u001b[0m\u001b[0mdatetime\u001b[0m\u001b[1;33m.\u001b[0m\u001b[0mstrptime\u001b[0m\u001b[1;33m(\u001b[0m\u001b[0mx\u001b[0m\u001b[1;33m,\u001b[0m \u001b[1;34m\"%Y-%m-%d\"\u001b[0m\u001b[1;33m)\u001b[0m\u001b[1;33m.\u001b[0m\u001b[0mdate\u001b[0m\u001b[1;33m(\u001b[0m\u001b[1;33m)\u001b[0m\u001b[1;33m)\u001b[0m\u001b[1;33m\u001b[0m\u001b[1;33m\u001b[0m\u001b[0m\n\u001b[0m\u001b[0;32m      3\u001b[0m \u001b[0mus10y\u001b[0m\u001b[1;33m.\u001b[0m\u001b[0mhead\u001b[0m\u001b[1;33m(\u001b[0m\u001b[1;33m)\u001b[0m\u001b[1;33m\u001b[0m\u001b[1;33m\u001b[0m\u001b[0m\n",
      "\u001b[1;32m~\\anaconda3\\lib\\site-packages\\pandas\\core\\series.py\u001b[0m in \u001b[0;36mapply\u001b[1;34m(self, func, convert_dtype, args, **kwds)\u001b[0m\n\u001b[0;32m   3846\u001b[0m             \u001b[1;32melse\u001b[0m\u001b[1;33m:\u001b[0m\u001b[1;33m\u001b[0m\u001b[1;33m\u001b[0m\u001b[0m\n\u001b[0;32m   3847\u001b[0m                 \u001b[0mvalues\u001b[0m \u001b[1;33m=\u001b[0m \u001b[0mself\u001b[0m\u001b[1;33m.\u001b[0m\u001b[0mastype\u001b[0m\u001b[1;33m(\u001b[0m\u001b[0mobject\u001b[0m\u001b[1;33m)\u001b[0m\u001b[1;33m.\u001b[0m\u001b[0mvalues\u001b[0m\u001b[1;33m\u001b[0m\u001b[1;33m\u001b[0m\u001b[0m\n\u001b[1;32m-> 3848\u001b[1;33m                 \u001b[0mmapped\u001b[0m \u001b[1;33m=\u001b[0m \u001b[0mlib\u001b[0m\u001b[1;33m.\u001b[0m\u001b[0mmap_infer\u001b[0m\u001b[1;33m(\u001b[0m\u001b[0mvalues\u001b[0m\u001b[1;33m,\u001b[0m \u001b[0mf\u001b[0m\u001b[1;33m,\u001b[0m \u001b[0mconvert\u001b[0m\u001b[1;33m=\u001b[0m\u001b[0mconvert_dtype\u001b[0m\u001b[1;33m)\u001b[0m\u001b[1;33m\u001b[0m\u001b[1;33m\u001b[0m\u001b[0m\n\u001b[0m\u001b[0;32m   3849\u001b[0m \u001b[1;33m\u001b[0m\u001b[0m\n\u001b[0;32m   3850\u001b[0m         \u001b[1;32mif\u001b[0m \u001b[0mlen\u001b[0m\u001b[1;33m(\u001b[0m\u001b[0mmapped\u001b[0m\u001b[1;33m)\u001b[0m \u001b[1;32mand\u001b[0m \u001b[0misinstance\u001b[0m\u001b[1;33m(\u001b[0m\u001b[0mmapped\u001b[0m\u001b[1;33m[\u001b[0m\u001b[1;36m0\u001b[0m\u001b[1;33m]\u001b[0m\u001b[1;33m,\u001b[0m \u001b[0mSeries\u001b[0m\u001b[1;33m)\u001b[0m\u001b[1;33m:\u001b[0m\u001b[1;33m\u001b[0m\u001b[1;33m\u001b[0m\u001b[0m\n",
      "\u001b[1;32mpandas\\_libs\\lib.pyx\u001b[0m in \u001b[0;36mpandas._libs.lib.map_infer\u001b[1;34m()\u001b[0m\n",
      "\u001b[1;32m<ipython-input-132-a0685e1cfcb5>\u001b[0m in \u001b[0;36m<lambda>\u001b[1;34m(x)\u001b[0m\n\u001b[0;32m      1\u001b[0m \u001b[0mus10y\u001b[0m\u001b[1;33m[\u001b[0m\u001b[1;34m'cltocl'\u001b[0m\u001b[1;33m]\u001b[0m \u001b[1;33m=\u001b[0m \u001b[0mus10y\u001b[0m\u001b[1;33m[\u001b[0m\u001b[1;34m'adjusted_close'\u001b[0m\u001b[1;33m]\u001b[0m\u001b[1;33m.\u001b[0m\u001b[0mdiff\u001b[0m\u001b[1;33m(\u001b[0m\u001b[1;33m)\u001b[0m\u001b[1;33m\u001b[0m\u001b[1;33m\u001b[0m\u001b[0m\n\u001b[1;32m----> 2\u001b[1;33m \u001b[0mus10y\u001b[0m\u001b[1;33m[\u001b[0m\u001b[1;34m'Date'\u001b[0m\u001b[1;33m]\u001b[0m \u001b[1;33m=\u001b[0m \u001b[0mus10y\u001b[0m\u001b[1;33m[\u001b[0m\u001b[1;34m'Date'\u001b[0m\u001b[1;33m]\u001b[0m\u001b[1;33m.\u001b[0m\u001b[0mapply\u001b[0m\u001b[1;33m(\u001b[0m\u001b[1;32mlambda\u001b[0m \u001b[0mx\u001b[0m\u001b[1;33m:\u001b[0m \u001b[0mdatetime\u001b[0m\u001b[1;33m.\u001b[0m\u001b[0mdatetime\u001b[0m\u001b[1;33m.\u001b[0m\u001b[0mstrptime\u001b[0m\u001b[1;33m(\u001b[0m\u001b[0mx\u001b[0m\u001b[1;33m,\u001b[0m \u001b[1;34m\"%Y-%m-%d\"\u001b[0m\u001b[1;33m)\u001b[0m\u001b[1;33m.\u001b[0m\u001b[0mdate\u001b[0m\u001b[1;33m(\u001b[0m\u001b[1;33m)\u001b[0m\u001b[1;33m)\u001b[0m\u001b[1;33m\u001b[0m\u001b[1;33m\u001b[0m\u001b[0m\n\u001b[0m\u001b[0;32m      3\u001b[0m \u001b[0mus10y\u001b[0m\u001b[1;33m.\u001b[0m\u001b[0mhead\u001b[0m\u001b[1;33m(\u001b[0m\u001b[1;33m)\u001b[0m\u001b[1;33m\u001b[0m\u001b[1;33m\u001b[0m\u001b[0m\n",
      "\u001b[1;31mTypeError\u001b[0m: strptime() argument 1 must be str, not datetime.date"
     ]
    }
   ],
   "source": [
    "us10y['cltocl'] = us10y['adjusted_close'].diff()\n",
    "us10y['Date'] = us10y['Date'].apply(lambda x: datetime.datetime.strptime(x, \"%Y-%m-%d\").date())"
   ]
  },
  {
   "cell_type": "code",
   "execution_count": 95,
   "metadata": {},
   "outputs": [
    {
     "data": {
      "text/html": [
       "<div>\n",
       "<style scoped>\n",
       "    .dataframe tbody tr th:only-of-type {\n",
       "        vertical-align: middle;\n",
       "    }\n",
       "\n",
       "    .dataframe tbody tr th {\n",
       "        vertical-align: top;\n",
       "    }\n",
       "\n",
       "    .dataframe thead th {\n",
       "        text-align: right;\n",
       "    }\n",
       "</style>\n",
       "<table border=\"1\" class=\"dataframe\">\n",
       "  <thead>\n",
       "    <tr style=\"text-align: right;\">\n",
       "      <th></th>\n",
       "      <th>date</th>\n",
       "      <th>id</th>\n",
       "      <th>content</th>\n",
       "      <th>sentim</th>\n",
       "    </tr>\n",
       "  </thead>\n",
       "  <tbody>\n",
       "    <tr>\n",
       "      <th>0</th>\n",
       "      <td>2022-11-07</td>\n",
       "      <td>1589641350907150080</td>\n",
       "      <td>“They were the poorest among the poor,” Ela Bh...</td>\n",
       "      <td>-0.8567</td>\n",
       "    </tr>\n",
       "    <tr>\n",
       "      <th>1</th>\n",
       "      <td>2022-11-07</td>\n",
       "      <td>1589633819912569088</td>\n",
       "      <td>Since 2011, CUNY has more than doubled the num...</td>\n",
       "      <td>0.6124</td>\n",
       "    </tr>\n",
       "    <tr>\n",
       "      <th>2</th>\n",
       "      <td>2022-11-07</td>\n",
       "      <td>1589626295570285056</td>\n",
       "      <td>In today’s DealBook newsletter: @sarahfkessler...</td>\n",
       "      <td>-0.6705</td>\n",
       "    </tr>\n",
       "    <tr>\n",
       "      <th>3</th>\n",
       "      <td>2022-11-06</td>\n",
       "      <td>1589378360391699968</td>\n",
       "      <td>In the weekend edition of the DealBook newslet...</td>\n",
       "      <td>0.0000</td>\n",
       "    </tr>\n",
       "    <tr>\n",
       "      <th>4</th>\n",
       "      <td>2022-11-06</td>\n",
       "      <td>1589371060071371008</td>\n",
       "      <td>Benefit costs may go up as much as 6 percent. ...</td>\n",
       "      <td>0.4588</td>\n",
       "    </tr>\n",
       "  </tbody>\n",
       "</table>\n",
       "</div>"
      ],
      "text/plain": [
       "         date                   id  \\\n",
       "0  2022-11-07  1589641350907150080   \n",
       "1  2022-11-07  1589633819912569088   \n",
       "2  2022-11-07  1589626295570285056   \n",
       "3  2022-11-06  1589378360391699968   \n",
       "4  2022-11-06  1589371060071371008   \n",
       "\n",
       "                                             content  sentim  \n",
       "0  “They were the poorest among the poor,” Ela Bh... -0.8567  \n",
       "1  Since 2011, CUNY has more than doubled the num...  0.6124  \n",
       "2  In today’s DealBook newsletter: @sarahfkessler... -0.6705  \n",
       "3  In the weekend edition of the DealBook newslet...  0.0000  \n",
       "4  Benefit costs may go up as much as 6 percent. ...  0.4588  "
      ]
     },
     "execution_count": 95,
     "metadata": {},
     "output_type": "execute_result"
    }
   ],
   "source": [
    "nyt['content'] = nyt['content'].str.replace(r'&amp;', 'and', regex=True)\n",
    "nyt['date'] = nyt['date'].apply(lambda a: pd.to_datetime(a).date()) \n",
    "nyt['content'] = nyt['content'].str.replace(r'http\\S+','',regex=True)\n",
    "nyt['content'] = nyt['content'].str.replace(r'\\n','',regex=True)\n",
    "nyt = nyt.drop(columns='Unnamed: 0')\n",
    "nyt.head()"
   ]
  },
  {
   "cell_type": "code",
   "execution_count": 58,
   "metadata": {},
   "outputs": [
    {
     "data": {
      "text/html": [
       "<div>\n",
       "<style scoped>\n",
       "    .dataframe tbody tr th:only-of-type {\n",
       "        vertical-align: middle;\n",
       "    }\n",
       "\n",
       "    .dataframe tbody tr th {\n",
       "        vertical-align: top;\n",
       "    }\n",
       "\n",
       "    .dataframe thead th {\n",
       "        text-align: right;\n",
       "    }\n",
       "</style>\n",
       "<table border=\"1\" class=\"dataframe\">\n",
       "  <thead>\n",
       "    <tr style=\"text-align: right;\">\n",
       "      <th></th>\n",
       "      <th>date</th>\n",
       "      <th>id</th>\n",
       "      <th>content</th>\n",
       "    </tr>\n",
       "  </thead>\n",
       "  <tbody>\n",
       "    <tr>\n",
       "      <th>0</th>\n",
       "      <td>2022-11-07</td>\n",
       "      <td>1589481072454210048</td>\n",
       "      <td>Walgreens subsidiary nears $9 billion deal to ...</td>\n",
       "    </tr>\n",
       "    <tr>\n",
       "      <th>1</th>\n",
       "      <td>2022-11-07</td>\n",
       "      <td>1589474658050605056</td>\n",
       "      <td>Asian markets mostly rise as investors watch f...</td>\n",
       "    </tr>\n",
       "    <tr>\n",
       "      <th>2</th>\n",
       "      <td>2022-11-07</td>\n",
       "      <td>1589465485921370112</td>\n",
       "      <td>For the cost of an ad-free Netflix subscriptio...</td>\n",
       "    </tr>\n",
       "    <tr>\n",
       "      <th>3</th>\n",
       "      <td>2022-11-07</td>\n",
       "      <td>1589458644990661120</td>\n",
       "      <td>Fidelity launches waitlist to offer crypto tra...</td>\n",
       "    </tr>\n",
       "    <tr>\n",
       "      <th>4</th>\n",
       "      <td>2022-11-07</td>\n",
       "      <td>1589451879964099072</td>\n",
       "      <td>‘I can’t afford to buy candy for the neighborh...</td>\n",
       "    </tr>\n",
       "  </tbody>\n",
       "</table>\n",
       "</div>"
      ],
      "text/plain": [
       "         date                   id  \\\n",
       "0  2022-11-07  1589481072454210048   \n",
       "1  2022-11-07  1589474658050605056   \n",
       "2  2022-11-07  1589465485921370112   \n",
       "3  2022-11-07  1589458644990661120   \n",
       "4  2022-11-07  1589451879964099072   \n",
       "\n",
       "                                             content  \n",
       "0  Walgreens subsidiary nears $9 billion deal to ...  \n",
       "1  Asian markets mostly rise as investors watch f...  \n",
       "2  For the cost of an ad-free Netflix subscriptio...  \n",
       "3  Fidelity launches waitlist to offer crypto tra...  \n",
       "4  ‘I can’t afford to buy candy for the neighborh...  "
      ]
     },
     "execution_count": 58,
     "metadata": {},
     "output_type": "execute_result"
    }
   ],
   "source": [
    "mkw['content'] = mkw['content'].str.replace(r'&amp;', 'and', regex=True)\n",
    "mkw['date'] = mkw['date'].apply(lambda a: pd.to_datetime(a).date()) \n",
    "mkw['content'] = mkw['content'].str.replace(r'http\\S+','',regex=True)\n",
    "mkw['content'] = mkw['content'].str.replace(r'\\n','',regex=True)\n",
    "mkw.head()"
   ]
  },
  {
   "cell_type": "markdown",
   "metadata": {},
   "source": [
    "Sentiment"
   ]
  },
  {
   "cell_type": "code",
   "execution_count": 137,
   "metadata": {},
   "outputs": [],
   "source": [
    "import re\n",
    "import nltk\n",
    "#nltk.download('vader_lexicon') #if not up to date\n",
    "from nltk.sentiment.vader import SentimentIntensityAnalyzer\n",
    "#compound =0.05<->0.05 = neutral\n",
    "sia_nyt = SentimentIntensityAnalyzer()"
   ]
  },
  {
   "cell_type": "code",
   "execution_count": 138,
   "metadata": {},
   "outputs": [],
   "source": [
    "def senpolarity(score):\n",
    "    if(score >= 0.2):  \n",
    "        return 1\n",
    "    if(score <= -0.2):\n",
    "        return -1 \n",
    "    return 0"
   ]
  },
  {
   "cell_type": "code",
   "execution_count": 139,
   "metadata": {},
   "outputs": [],
   "source": [
    "nyt['sentim'] = nyt['content'].apply(lambda x: sia.polarity_scores(x)['compound']) #use commpound portion"
   ]
  },
  {
   "cell_type": "code",
   "execution_count": 140,
   "metadata": {},
   "outputs": [],
   "source": [
    "nyt['sentpol'] = nyt['sentim'].apply(lambda x: senpolarity(x))"
   ]
  },
  {
   "cell_type": "code",
   "execution_count": 141,
   "metadata": {},
   "outputs": [
    {
     "data": {
      "text/html": [
       "<div>\n",
       "<style scoped>\n",
       "    .dataframe tbody tr th:only-of-type {\n",
       "        vertical-align: middle;\n",
       "    }\n",
       "\n",
       "    .dataframe tbody tr th {\n",
       "        vertical-align: top;\n",
       "    }\n",
       "\n",
       "    .dataframe thead th {\n",
       "        text-align: right;\n",
       "    }\n",
       "</style>\n",
       "<table border=\"1\" class=\"dataframe\">\n",
       "  <thead>\n",
       "    <tr style=\"text-align: right;\">\n",
       "      <th></th>\n",
       "      <th>date</th>\n",
       "      <th>sentim</th>\n",
       "      <th>sentpol</th>\n",
       "    </tr>\n",
       "  </thead>\n",
       "  <tbody>\n",
       "    <tr>\n",
       "      <th>0</th>\n",
       "      <td>2007-03-21</td>\n",
       "      <td>2.9718</td>\n",
       "      <td>7</td>\n",
       "    </tr>\n",
       "    <tr>\n",
       "      <th>1</th>\n",
       "      <td>2007-03-22</td>\n",
       "      <td>2.3240</td>\n",
       "      <td>2</td>\n",
       "    </tr>\n",
       "    <tr>\n",
       "      <th>2</th>\n",
       "      <td>2007-03-23</td>\n",
       "      <td>1.5471</td>\n",
       "      <td>5</td>\n",
       "    </tr>\n",
       "    <tr>\n",
       "      <th>3</th>\n",
       "      <td>2007-03-24</td>\n",
       "      <td>-0.8661</td>\n",
       "      <td>-2</td>\n",
       "    </tr>\n",
       "    <tr>\n",
       "      <th>4</th>\n",
       "      <td>2007-03-25</td>\n",
       "      <td>0.0000</td>\n",
       "      <td>0</td>\n",
       "    </tr>\n",
       "  </tbody>\n",
       "</table>\n",
       "</div>"
      ],
      "text/plain": [
       "         date  sentim  sentpol\n",
       "0  2007-03-21  2.9718        7\n",
       "1  2007-03-22  2.3240        2\n",
       "2  2007-03-23  1.5471        5\n",
       "3  2007-03-24 -0.8661       -2\n",
       "4  2007-03-25  0.0000        0"
      ]
     },
     "execution_count": 141,
     "metadata": {},
     "output_type": "execute_result"
    }
   ],
   "source": [
    "new_nyt = nyt.drop(columns='id').groupby(['date']).sum().reset_index()\n",
    "new_nyt.head()"
   ]
  },
  {
   "cell_type": "code",
   "execution_count": 146,
   "metadata": {},
   "outputs": [],
   "source": [
    "merged_nyt = new_nyt.merge(us10y, how='inner', left_on='date', right_on='Date')"
   ]
  },
  {
   "cell_type": "code",
   "execution_count": 147,
   "metadata": {},
   "outputs": [
    {
     "data": {
      "text/html": [
       "<div>\n",
       "<style scoped>\n",
       "    .dataframe tbody tr th:only-of-type {\n",
       "        vertical-align: middle;\n",
       "    }\n",
       "\n",
       "    .dataframe tbody tr th {\n",
       "        vertical-align: top;\n",
       "    }\n",
       "\n",
       "    .dataframe thead th {\n",
       "        text-align: right;\n",
       "    }\n",
       "</style>\n",
       "<table border=\"1\" class=\"dataframe\">\n",
       "  <thead>\n",
       "    <tr style=\"text-align: right;\">\n",
       "      <th></th>\n",
       "      <th>date</th>\n",
       "      <th>sentim</th>\n",
       "      <th>sentpol</th>\n",
       "      <th>Date</th>\n",
       "      <th>open</th>\n",
       "      <th>high</th>\n",
       "      <th>low</th>\n",
       "      <th>close</th>\n",
       "      <th>adjusted_close</th>\n",
       "      <th>volume</th>\n",
       "      <th>opcl</th>\n",
       "      <th>cltocl</th>\n",
       "    </tr>\n",
       "  </thead>\n",
       "  <tbody>\n",
       "    <tr>\n",
       "      <th>0</th>\n",
       "      <td>2007-03-21</td>\n",
       "      <td>2.9718</td>\n",
       "      <td>7</td>\n",
       "      <td>2007-03-21</td>\n",
       "      <td>4.540</td>\n",
       "      <td>4.540</td>\n",
       "      <td>4.540</td>\n",
       "      <td>4.540</td>\n",
       "      <td>4.540</td>\n",
       "      <td>0</td>\n",
       "      <td>0</td>\n",
       "      <td>-0.015</td>\n",
       "    </tr>\n",
       "    <tr>\n",
       "      <th>1</th>\n",
       "      <td>2007-03-22</td>\n",
       "      <td>2.3240</td>\n",
       "      <td>2</td>\n",
       "      <td>2007-03-22</td>\n",
       "      <td>4.589</td>\n",
       "      <td>4.589</td>\n",
       "      <td>4.589</td>\n",
       "      <td>4.589</td>\n",
       "      <td>4.589</td>\n",
       "      <td>0</td>\n",
       "      <td>0</td>\n",
       "      <td>0.049</td>\n",
       "    </tr>\n",
       "    <tr>\n",
       "      <th>2</th>\n",
       "      <td>2007-03-23</td>\n",
       "      <td>1.5471</td>\n",
       "      <td>5</td>\n",
       "      <td>2007-03-23</td>\n",
       "      <td>4.617</td>\n",
       "      <td>4.617</td>\n",
       "      <td>4.617</td>\n",
       "      <td>4.617</td>\n",
       "      <td>4.617</td>\n",
       "      <td>0</td>\n",
       "      <td>0</td>\n",
       "      <td>0.028</td>\n",
       "    </tr>\n",
       "    <tr>\n",
       "      <th>3</th>\n",
       "      <td>2007-03-26</td>\n",
       "      <td>0.0608</td>\n",
       "      <td>2</td>\n",
       "      <td>2007-03-26</td>\n",
       "      <td>4.607</td>\n",
       "      <td>4.607</td>\n",
       "      <td>4.607</td>\n",
       "      <td>4.607</td>\n",
       "      <td>4.607</td>\n",
       "      <td>0</td>\n",
       "      <td>0</td>\n",
       "      <td>-0.010</td>\n",
       "    </tr>\n",
       "    <tr>\n",
       "      <th>4</th>\n",
       "      <td>2007-03-27</td>\n",
       "      <td>-1.2714</td>\n",
       "      <td>-2</td>\n",
       "      <td>2007-03-27</td>\n",
       "      <td>4.605</td>\n",
       "      <td>4.605</td>\n",
       "      <td>4.605</td>\n",
       "      <td>4.605</td>\n",
       "      <td>4.605</td>\n",
       "      <td>0</td>\n",
       "      <td>0</td>\n",
       "      <td>-0.002</td>\n",
       "    </tr>\n",
       "  </tbody>\n",
       "</table>\n",
       "</div>"
      ],
      "text/plain": [
       "         date  sentim  sentpol        Date   open   high    low  close  \\\n",
       "0  2007-03-21  2.9718        7  2007-03-21  4.540  4.540  4.540  4.540   \n",
       "1  2007-03-22  2.3240        2  2007-03-22  4.589  4.589  4.589  4.589   \n",
       "2  2007-03-23  1.5471        5  2007-03-23  4.617  4.617  4.617  4.617   \n",
       "3  2007-03-26  0.0608        2  2007-03-26  4.607  4.607  4.607  4.607   \n",
       "4  2007-03-27 -1.2714       -2  2007-03-27  4.605  4.605  4.605  4.605   \n",
       "\n",
       "   adjusted_close  volume  opcl  cltocl  \n",
       "0           4.540       0     0  -0.015  \n",
       "1           4.589       0     0   0.049  \n",
       "2           4.617       0     0   0.028  \n",
       "3           4.607       0     0  -0.010  \n",
       "4           4.605       0     0  -0.002  "
      ]
     },
     "execution_count": 147,
     "metadata": {},
     "output_type": "execute_result"
    }
   ],
   "source": [
    "merged_nyt.head()"
   ]
  },
  {
   "cell_type": "code",
   "execution_count": 148,
   "metadata": {},
   "outputs": [
    {
     "data": {
      "text/plain": [
       "[<matplotlib.lines.Line2D at 0x24b6ac939c8>]"
      ]
     },
     "execution_count": 148,
     "metadata": {},
     "output_type": "execute_result"
    },
    {
     "data": {
      "image/png": "[encoded data removed]",
      "text/plain": [
       "<Figure size 432x288 with 1 Axes>"
      ]
     },
     "metadata": {
      "needs_background": "light"
     },
     "output_type": "display_data"
    }
   ],
   "source": [
    "plt.plot(merged_nyt.date, merged_nyt.sentim)\n",
    "plt.plot(merged_nyt.date, merged_nyt.cltocl)"
   ]
  },
  {
   "cell_type": "code",
   "execution_count": 153,
   "metadata": {},
   "outputs": [],
   "source": [
    "def transform(row, min_col, max_col, low = -1, high=1):\n",
    "    result = (row - min_col) * (high - low) / (max_col - min_col) + low;\n",
    "    return result"
   ]
  },
  {
   "cell_type": "code",
   "execution_count": 154,
   "metadata": {},
   "outputs": [],
   "source": [
    "column_min = min(merged_nyt['sentim'])\n",
    "column_max = max(merged_nyt['sentim'])\n",
    "\n",
    "merged_nyt['sentimScaled'] = merged_nyt['sentim'].apply(transform, min_col = column_min, max_col=column_max)"
   ]
  },
  {
   "cell_type": "code",
   "execution_count": 155,
   "metadata": {},
   "outputs": [
    {
     "data": {
      "text/plain": [
       "[<matplotlib.lines.Line2D at 0x24b4e4c6e08>]"
      ]
     },
     "execution_count": 155,
     "metadata": {},
     "output_type": "execute_result"
    },
    {
     "data": {
      "image/png": "[encoded data removed]",
      "text/plain": [
       "<Figure size 432x288 with 1 Axes>"
      ]
     },
     "metadata": {
      "needs_background": "light"
     },
     "output_type": "display_data"
    }
   ],
   "source": [
    "plt.plot(merged_nyt.date, merged_nyt.sentimScaled)\n",
    "plt.plot(merged_nyt.date, merged_nyt.cltocl)"
   ]
  },
  {
   "cell_type": "code",
   "execution_count": 163,
   "metadata": {},
   "outputs": [
    {
     "name": "stdout",
     "output_type": "stream",
     "text": [
      "[[819, 1326], [777, 1447]]\n"
     ]
    }
   ],
   "source": [
    "TP = 0\n",
    "TN = 0\n",
    "FP = 0\n",
    "FN = 0\n",
    "for i,row in enumerate(merged_nyt.values):\n",
    "    if row[11]>0 and row[12]>0:\n",
    "        TP += 1\n",
    "    elif row[11]<0 and row[12]>0:\n",
    "        FP += 1\n",
    "    elif row[11]<0 and row[12]<0:\n",
    "        TN += 1\n",
    "    elif row[11]>0 and row[12]<0:\n",
    "        FN += 1\n",
    "print([[TP,FN],[FP,TN]])"
   ]
  },
  {
   "cell_type": "code",
   "execution_count": null,
   "metadata": {},
   "outputs": [],
   "source": []
  },
  {
   "cell_type": "code",
   "execution_count": 165,
   "metadata": {},
   "outputs": [],
   "source": [
    "mkw['sentim'] = mkw['content'].apply(lambda x: sia.polarity_scores(x)['compound']) #use compound portion"
   ]
  },
  {
   "cell_type": "code",
   "execution_count": 166,
   "metadata": {},
   "outputs": [],
   "source": [
    "mkw['sentpol'] = mkw['sentim'].apply(lambda x: senpolarity(x))"
   ]
  },
  {
   "cell_type": "code",
   "execution_count": 167,
   "metadata": {},
   "outputs": [
    {
     "data": {
      "text/html": [
       "<div>\n",
       "<style scoped>\n",
       "    .dataframe tbody tr th:only-of-type {\n",
       "        vertical-align: middle;\n",
       "    }\n",
       "\n",
       "    .dataframe tbody tr th {\n",
       "        vertical-align: top;\n",
       "    }\n",
       "\n",
       "    .dataframe thead th {\n",
       "        text-align: right;\n",
       "    }\n",
       "</style>\n",
       "<table border=\"1\" class=\"dataframe\">\n",
       "  <thead>\n",
       "    <tr style=\"text-align: right;\">\n",
       "      <th></th>\n",
       "      <th>date</th>\n",
       "      <th>id</th>\n",
       "      <th>sentim</th>\n",
       "      <th>sentpol</th>\n",
       "    </tr>\n",
       "  </thead>\n",
       "  <tbody>\n",
       "    <tr>\n",
       "      <th>0</th>\n",
       "      <td>2007-01-17</td>\n",
       "      <td>15876425.0</td>\n",
       "      <td>-0.0954</td>\n",
       "      <td>0.0</td>\n",
       "    </tr>\n",
       "    <tr>\n",
       "      <th>1</th>\n",
       "      <td>2007-01-18</td>\n",
       "      <td>29249577.0</td>\n",
       "      <td>2.1354</td>\n",
       "      <td>5.0</td>\n",
       "    </tr>\n",
       "    <tr>\n",
       "      <th>2</th>\n",
       "      <td>2007-01-19</td>\n",
       "      <td>10044969.0</td>\n",
       "      <td>-0.2960</td>\n",
       "      <td>-1.0</td>\n",
       "    </tr>\n",
       "    <tr>\n",
       "      <th>3</th>\n",
       "      <td>2007-01-22</td>\n",
       "      <td>18493565.0</td>\n",
       "      <td>-0.3500</td>\n",
       "      <td>-2.0</td>\n",
       "    </tr>\n",
       "    <tr>\n",
       "      <th>4</th>\n",
       "      <td>2007-01-23</td>\n",
       "      <td>26826211.0</td>\n",
       "      <td>-0.9043</td>\n",
       "      <td>-2.0</td>\n",
       "    </tr>\n",
       "  </tbody>\n",
       "</table>\n",
       "</div>"
      ],
      "text/plain": [
       "         date          id  sentim  sentpol\n",
       "0  2007-01-17  15876425.0 -0.0954      0.0\n",
       "1  2007-01-18  29249577.0  2.1354      5.0\n",
       "2  2007-01-19  10044969.0 -0.2960     -1.0\n",
       "3  2007-01-22  18493565.0 -0.3500     -2.0\n",
       "4  2007-01-23  26826211.0 -0.9043     -2.0"
      ]
     },
     "execution_count": 167,
     "metadata": {},
     "output_type": "execute_result"
    }
   ],
   "source": [
    "new_mkw = mkw.groupby(['date']).sum().reset_index()\n",
    "new_mkw.head()"
   ]
  },
  {
   "cell_type": "code",
   "execution_count": 168,
   "metadata": {},
   "outputs": [],
   "source": [
    "merged_mkw = new_mkw.merge(us10y, how='inner', left_on='date', right_on='Date')"
   ]
  },
  {
   "cell_type": "code",
   "execution_count": 169,
   "metadata": {},
   "outputs": [
    {
     "data": {
      "text/plain": [
       "[<matplotlib.lines.Line2D at 0x24b6ad91388>]"
      ]
     },
     "execution_count": 169,
     "metadata": {},
     "output_type": "execute_result"
    },
    {
     "data": {
      "image/png": "[encoded data removed]",
      "text/plain": [
       "<Figure size 432x288 with 1 Axes>"
      ]
     },
     "metadata": {
      "needs_background": "light"
     },
     "output_type": "display_data"
    }
   ],
   "source": [
    "plt.plot(merged_mkw.date, merged_mkw.sentim)\n",
    "plt.plot(merged_mkw.date, merged_mkw.cltocl)"
   ]
  },
  {
   "cell_type": "code",
   "execution_count": 170,
   "metadata": {},
   "outputs": [
    {
     "data": {
      "text/plain": [
       "[<matplotlib.lines.Line2D at 0x24b6b063308>]"
      ]
     },
     "execution_count": 170,
     "metadata": {},
     "output_type": "execute_result"
    },
    {
     "data": {
      "image/png": "[encoded data removed]",
      "text/plain": [
       "<Figure size 432x288 with 1 Axes>"
      ]
     },
     "metadata": {
      "needs_background": "light"
     },
     "output_type": "display_data"
    }
   ],
   "source": [
    "column_min = min(merged_mkw['sentim'])\n",
    "column_max = max(merged_mkw['sentim'])\n",
    "merged_mkw['sentimScaled'] = merged_mkw['sentim'].apply(transform, min_col = column_min, max_col=column_max)\n",
    "plt.plot(merged_mkw.date, merged_mkw.sentimScaled)\n",
    "plt.plot(merged_mkw.date, merged_mkw.cltocl)"
   ]
  },
  {
   "cell_type": "code",
   "execution_count": 171,
   "metadata": {},
   "outputs": [
    {
     "name": "stdout",
     "output_type": "stream",
     "text": [
      "[[1239, 100], [129, 1274]]\n"
     ]
    }
   ],
   "source": [
    "TP = 0\n",
    "TN = 0\n",
    "FP = 0\n",
    "FN = 0\n",
    "for i,row in enumerate(merged_mkw.values):\n",
    "    if row[11]>0 and row[12]>0:\n",
    "        TP += 1\n",
    "    elif row[11]<0 and row[12]>0:\n",
    "        FP += 1\n",
    "    elif row[11]<0 and row[12]<0:\n",
    "        TN += 1\n",
    "    elif row[11]>0 and row[12]<0:\n",
    "        FN += 1\n",
    "print([[TP,FN],[FP,TN]])"
   ]
  }
 ],
 "metadata": {
  "kernelspec": {
   "display_name": "Python 3",
   "language": "python",
   "name": "python3"
  },
  "language_info": {
   "codemirror_mode": {
    "name": "ipython",
    "version": 3
   },
   "file_extension": ".py",
   "mimetype": "text/x-python",
   "name": "python",
   "nbconvert_exporter": "python",
   "pygments_lexer": "ipython3",
   "version": "3.7.6"
  }
 },
 "nbformat": 4,
 "nbformat_minor": 4
}
